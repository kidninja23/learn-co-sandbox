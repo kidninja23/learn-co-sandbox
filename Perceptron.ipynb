{
  "nbformat": 4,
  "nbformat_minor": 0,
  "metadata": {
    "colab": {
      "name": "Perceptron.ipynb",
      "version": "0.3.2",
      "provenance": [],
      "collapsed_sections": [],
      "include_colab_link": true
    },
    "kernelspec": {
      "name": "python3",
      "display_name": "Python 3"
    }
  },
  "cells": [
    {
      "cell_type": "markdown",
      "metadata": {
        "id": "view-in-github",
        "colab_type": "text"
      },
      "source": [
        "<a href=\"https://colab.research.google.com/github/kidninja23/learn-co-sandbox/blob/master/Perceptron.ipynb\" target=\"_parent\"><img src=\"https://colab.research.google.com/assets/colab-badge.svg\" alt=\"Open In Colab\"/></a>"
      ]
    },
    {
      "metadata": {
        "id": "LBggMPyNmFBL",
        "colab_type": "text"
      },
      "cell_type": "markdown",
      "source": [
        "**Jason Bice<br>\n",
        "CS4242 - W01<br>\n",
        "Assignment 3<br>**\n",
        "Problem 1: To implement a perceptron to simulate the function for classifying an image with 2 x 2 pixels as shown in the PPT. Your input will be 16 training examples."
      ]
    },
    {
      "metadata": {
        "id": "0u7zhxmjIHWF",
        "colab_type": "code",
        "colab": {}
      },
      "cell_type": "code",
      "source": [
        "# Course: CS4242 W01\n",
        "# Student name: Jason Bice \n",
        "# Student ID: 000248436\n",
        "# Assignment #3 \n",
        "# Due Date: 4/19/19\n",
        "# Signature: Jason Bice\n",
        "# Score:_______________\n",
        "\n",
        "\n",
        "import numpy as np\n",
        "from numpy.random import seed\n",
        "import pandas as pd\n",
        "import matplotlib.pyplot as plt\n",
        "from matplotlib.colors import ListedColormap\n",
        "from matplotlib import rcParams\n",
        "#set the plot figure size\n",
        "rcParams[\"figure.figsize\"] = 10, 5\n",
        "%matplotlib inline\n"
      ],
      "execution_count": 0,
      "outputs": []
    },
    {
      "metadata": {
        "id": "oxZq73gIItPN",
        "colab_type": "code",
        "colab": {}
      },
      "cell_type": "code",
      "source": [
        "'''Class created based on online tutorial materials from pactpub.com, Python Machine learning Part 1'''\n",
        "class Perceptron(object):\n",
        "  '''\n",
        "  Perceptron Classifier.\n",
        "  \n",
        "  Parameters\n",
        "  ----------\n",
        "  eta : float\n",
        "      Learning rate (between 0.0 and 1.0)\n",
        "  n_iter : int\n",
        "      Passes (epochs) over the training set\n",
        "      \n",
        "      \n",
        "  Attributes\n",
        "  ----------\n",
        "  w_ : id-array\n",
        "      weights after fitting.\n",
        "  errors_ : list\n",
        "      number of misclassification in every epoch\n",
        "  '''\n",
        "  \n",
        "  def __init__(self, eta = 0.01, n_iter = 10):\n",
        "    self.eta = eta\n",
        "    self.n_iter = n_iter\n",
        "    \n",
        "  def fit(self, X, y):\n",
        "    '''\n",
        "    Fit method for training data\n",
        "    \n",
        "    Parameters\n",
        "    ----------\n",
        "    \n",
        "    X : {array-like}, shape = [n_samples, n_features]\n",
        "        Training vectors, where 'n_samples' is the number \n",
        "        of samples and 'n_features' is the number of features.\n",
        "        \n",
        "    y : {array-like}, shape = [n_samples]\n",
        "        Target value\n",
        "        \n",
        "    Returns\n",
        "    -------\n",
        "    self : object\n",
        "    '''\n",
        "    self.w_ = np.zeros(1 + X.shape[1]) \n",
        "    self.errors_ = [] #initially set as an empty list\n",
        "    \n",
        "    for _ in range(self.n_iter): #_ used becuase the item isn't used\n",
        "      errors = 0 \n",
        "      for xi, target in zip(X, y):\n",
        "        update = self.eta * (target - self.predict(xi))\n",
        "        self.w_[1:] += update * xi\n",
        "        self.w_[0] += update\n",
        "        errors += int(update != 0.0)\n",
        "      self.errors_.append(errors)\n",
        "    return self\n",
        "  \n",
        "  def net_input(self, X):\n",
        "    '''\n",
        "    Calculate the net input\n",
        "    '''\n",
        "    return np.dot(X, self.w_[1:]) + self.w_[0]\n",
        "  \n",
        "  def predict(self, X):\n",
        "    '''\n",
        "    Return class lable after unit step\n",
        "    '''\n",
        "    \n",
        "    return np.where(self.net_input(X) >= 0.0, 1, -1)\n",
        "  \n",
        "  "
      ],
      "execution_count": 0,
      "outputs": []
    },
    {
      "metadata": {
        "id": "7AsZesvVN6HQ",
        "colab_type": "text"
      },
      "cell_type": "markdown",
      "source": [
        "The Data Set was generated in csv format and uploaded directly to the project. The CSV dataset is included with the assignment being turned in. \n",
        "\n",
        "The below code uploads the files directly to colab project. "
      ]
    },
    {
      "metadata": {
        "id": "XdurMlPVhZYd",
        "colab_type": "code",
        "colab": {
          "resources": {
            "http://localhost:8080/nbextensions/google.colab/files.js": {
              "data": "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",
              "ok": true,
              "headers": [
                [
                  "content-type",
                  "application/javascript"
                ]
              ],
              "status": 200,
              "status_text": ""
            }
          },
          "base_uri": "https://localhost:8080/",
          "height": 75
        },
        "outputId": "a804c8bd-aae9-4e38-a406-a7a154a78fd4"
      },
      "cell_type": "code",
      "source": [
        "from google.colab import files\n",
        "uploaded = files.upload()"
      ],
      "execution_count": 88,
      "outputs": [
        {
          "output_type": "display_data",
          "data": {
            "text/html": [
              "\n",
              "     <input type=\"file\" id=\"files-cdec8cb4-c4bf-4ce1-bb27-7d418a48c908\" name=\"files[]\" multiple disabled />\n",
              "     <output id=\"result-cdec8cb4-c4bf-4ce1-bb27-7d418a48c908\">\n",
              "      Upload widget is only available when the cell has been executed in the\n",
              "      current browser session. Please rerun this cell to enable.\n",
              "      </output>\n",
              "      <script src=\"/nbextensions/google.colab/files.js\"></script> "
            ],
            "text/plain": [
              "<IPython.core.display.HTML object>"
            ]
          },
          "metadata": {
            "tags": []
          }
        },
        {
          "output_type": "stream",
          "text": [
            "Saving Assignment3_dataset.csv to Assignment3_dataset.csv\n"
          ],
          "name": "stdout"
        }
      ]
    },
    {
      "metadata": {
        "id": "3gg6XfSXo5g_",
        "colab_type": "text"
      },
      "cell_type": "markdown",
      "source": [
        "The below code snippet assigns the dataset and then displays the complete dataset. For this data set, each 0 represents a black pixel and each 1 represents a white pixel. Each colum represents one of the 4  individual pixels. Each row is one of the 16 possible unique combinations of  "
      ]
    },
    {
      "metadata": {
        "id": "5eOC06hphmjq",
        "colab_type": "code",
        "colab": {
          "base_uri": "https://localhost:8080/",
          "height": 545
        },
        "outputId": "62f7f58a-6571-4a62-b494-708ec09c3745"
      },
      "cell_type": "code",
      "source": [
        "import io\n",
        "\n",
        "df = pd.read_csv(io.BytesIO(uploaded[\"Assignment3_dataset.csv\"]), header = None)\n",
        "df"
      ],
      "execution_count": 89,
      "outputs": [
        {
          "output_type": "execute_result",
          "data": {
            "text/html": [
              "<div>\n",
              "<style scoped>\n",
              "    .dataframe tbody tr th:only-of-type {\n",
              "        vertical-align: middle;\n",
              "    }\n",
              "\n",
              "    .dataframe tbody tr th {\n",
              "        vertical-align: top;\n",
              "    }\n",
              "\n",
              "    .dataframe thead th {\n",
              "        text-align: right;\n",
              "    }\n",
              "</style>\n",
              "<table border=\"1\" class=\"dataframe\">\n",
              "  <thead>\n",
              "    <tr style=\"text-align: right;\">\n",
              "      <th></th>\n",
              "      <th>0</th>\n",
              "      <th>1</th>\n",
              "      <th>2</th>\n",
              "      <th>3</th>\n",
              "      <th>4</th>\n",
              "    </tr>\n",
              "  </thead>\n",
              "  <tbody>\n",
              "    <tr>\n",
              "      <th>0</th>\n",
              "      <td>0</td>\n",
              "      <td>0</td>\n",
              "      <td>0</td>\n",
              "      <td>0</td>\n",
              "      <td>Dark</td>\n",
              "    </tr>\n",
              "    <tr>\n",
              "      <th>1</th>\n",
              "      <td>1</td>\n",
              "      <td>0</td>\n",
              "      <td>0</td>\n",
              "      <td>0</td>\n",
              "      <td>Dark</td>\n",
              "    </tr>\n",
              "    <tr>\n",
              "      <th>2</th>\n",
              "      <td>0</td>\n",
              "      <td>1</td>\n",
              "      <td>0</td>\n",
              "      <td>0</td>\n",
              "      <td>Dark</td>\n",
              "    </tr>\n",
              "    <tr>\n",
              "      <th>3</th>\n",
              "      <td>0</td>\n",
              "      <td>0</td>\n",
              "      <td>1</td>\n",
              "      <td>0</td>\n",
              "      <td>Dark</td>\n",
              "    </tr>\n",
              "    <tr>\n",
              "      <th>4</th>\n",
              "      <td>0</td>\n",
              "      <td>0</td>\n",
              "      <td>0</td>\n",
              "      <td>1</td>\n",
              "      <td>Dark</td>\n",
              "    </tr>\n",
              "    <tr>\n",
              "      <th>5</th>\n",
              "      <td>1</td>\n",
              "      <td>1</td>\n",
              "      <td>0</td>\n",
              "      <td>0</td>\n",
              "      <td>Bright</td>\n",
              "    </tr>\n",
              "    <tr>\n",
              "      <th>6</th>\n",
              "      <td>0</td>\n",
              "      <td>1</td>\n",
              "      <td>1</td>\n",
              "      <td>0</td>\n",
              "      <td>Bright</td>\n",
              "    </tr>\n",
              "    <tr>\n",
              "      <th>7</th>\n",
              "      <td>0</td>\n",
              "      <td>0</td>\n",
              "      <td>1</td>\n",
              "      <td>1</td>\n",
              "      <td>Bright</td>\n",
              "    </tr>\n",
              "    <tr>\n",
              "      <th>8</th>\n",
              "      <td>1</td>\n",
              "      <td>0</td>\n",
              "      <td>1</td>\n",
              "      <td>0</td>\n",
              "      <td>Bright</td>\n",
              "    </tr>\n",
              "    <tr>\n",
              "      <th>9</th>\n",
              "      <td>1</td>\n",
              "      <td>0</td>\n",
              "      <td>0</td>\n",
              "      <td>1</td>\n",
              "      <td>Bright</td>\n",
              "    </tr>\n",
              "    <tr>\n",
              "      <th>10</th>\n",
              "      <td>0</td>\n",
              "      <td>1</td>\n",
              "      <td>0</td>\n",
              "      <td>1</td>\n",
              "      <td>Bright</td>\n",
              "    </tr>\n",
              "    <tr>\n",
              "      <th>11</th>\n",
              "      <td>1</td>\n",
              "      <td>1</td>\n",
              "      <td>1</td>\n",
              "      <td>0</td>\n",
              "      <td>Bright</td>\n",
              "    </tr>\n",
              "    <tr>\n",
              "      <th>12</th>\n",
              "      <td>1</td>\n",
              "      <td>0</td>\n",
              "      <td>1</td>\n",
              "      <td>1</td>\n",
              "      <td>Bright</td>\n",
              "    </tr>\n",
              "    <tr>\n",
              "      <th>13</th>\n",
              "      <td>1</td>\n",
              "      <td>1</td>\n",
              "      <td>0</td>\n",
              "      <td>1</td>\n",
              "      <td>Bright</td>\n",
              "    </tr>\n",
              "    <tr>\n",
              "      <th>14</th>\n",
              "      <td>0</td>\n",
              "      <td>1</td>\n",
              "      <td>1</td>\n",
              "      <td>1</td>\n",
              "      <td>Bright</td>\n",
              "    </tr>\n",
              "    <tr>\n",
              "      <th>15</th>\n",
              "      <td>1</td>\n",
              "      <td>1</td>\n",
              "      <td>1</td>\n",
              "      <td>1</td>\n",
              "      <td>Bright</td>\n",
              "    </tr>\n",
              "  </tbody>\n",
              "</table>\n",
              "</div>"
            ],
            "text/plain": [
              "    0  1  2  3       4\n",
              "0   0  0  0  0    Dark\n",
              "1   1  0  0  0    Dark\n",
              "2   0  1  0  0    Dark\n",
              "3   0  0  1  0    Dark\n",
              "4   0  0  0  1    Dark\n",
              "5   1  1  0  0  Bright\n",
              "6   0  1  1  0  Bright\n",
              "7   0  0  1  1  Bright\n",
              "8   1  0  1  0  Bright\n",
              "9   1  0  0  1  Bright\n",
              "10  0  1  0  1  Bright\n",
              "11  1  1  1  0  Bright\n",
              "12  1  0  1  1  Bright\n",
              "13  1  1  0  1  Bright\n",
              "14  0  1  1  1  Bright\n",
              "15  1  1  1  1  Bright"
            ]
          },
          "metadata": {
            "tags": []
          },
          "execution_count": 89
        }
      ]
    },
    {
      "metadata": {
        "id": "wO8uwqMnOhwe",
        "colab_type": "code",
        "colab": {}
      },
      "cell_type": "code",
      "source": [
        "#extract the first 100 class labels, corresponding to the 50 Iris-setosa\n",
        "\n",
        "y = df.iloc[0:, 4].values\n",
        "\n",
        "#np.where(condition[,x,y]) <<--function signature\n",
        "negative_class = -1\n",
        "positive_class = 1\n",
        "condition=y == \"Dark\"\n",
        "y = np.where(condition, \n",
        "             negative_class, \n",
        "             positive_class)\n",
        "\n",
        "X = df.iloc[0:, [0,1,2,3]].values\n"
      ],
      "execution_count": 0,
      "outputs": []
    },
    {
      "metadata": {
        "id": "5zDoWTVuSjHa",
        "colab_type": "text"
      },
      "cell_type": "markdown",
      "source": [
        "Training the perceptron in the code below. "
      ]
    },
    {
      "metadata": {
        "id": "KwivGgc9Skcn",
        "colab_type": "code",
        "colab": {
          "base_uri": "https://localhost:8080/",
          "height": 34
        },
        "outputId": "93f5973e-08a6-4dd6-a6ad-76f727a68d12"
      },
      "cell_type": "code",
      "source": [
        "#instantiate a perceptron object\n",
        "eta = 0.1\n",
        "n_iter = 10 #number of passes over the training data\n",
        "\n",
        "ppn = Perceptron(eta = eta, \n",
        "                 n_iter = n_iter)\n",
        "\n",
        "#fit the perceptron instance to our training data\n",
        "ppn.fit(X,\n",
        "       y)\n"
      ],
      "execution_count": 91,
      "outputs": [
        {
          "output_type": "execute_result",
          "data": {
            "text/plain": [
              "<__main__.Perceptron at 0x7efe745ce3c8>"
            ]
          },
          "metadata": {
            "tags": []
          },
          "execution_count": 91
        }
      ]
    },
    {
      "metadata": {
        "id": "uuUC9LpHTZHL",
        "colab_type": "text"
      },
      "cell_type": "markdown",
      "source": [
        "Evaluate the learning process"
      ]
    },
    {
      "metadata": {
        "id": "Xc2RPXYkTX8x",
        "colab_type": "code",
        "colab": {
          "base_uri": "https://localhost:8080/",
          "height": 300
        },
        "outputId": "d034a343-069f-42a6-d9b3-f27c1a7783bd"
      },
      "cell_type": "code",
      "source": [
        "#plot the misclassifications\n",
        "epochs = range(1, len(ppn.errors_) + 1)\n",
        "misclassifications=ppn.errors_\n",
        "marker=\"o\"\n",
        "plt.plot(epochs,\n",
        "        misclassifications,\n",
        "        marker=marker)\n",
        "\n",
        "#add labels\n",
        "plt.xlabel('epochs')\n",
        "plt.ylabel('number of misclassifications')"
      ],
      "execution_count": 92,
      "outputs": [
        {
          "output_type": "execute_result",
          "data": {
            "text/plain": [
              "Text(0, 0.5, 'number of misclassifications')"
            ]
          },
          "metadata": {
            "tags": []
          },
          "execution_count": 92
        },
        {
          "output_type": "display_data",
          "data": {
            "image/png": "[encoded data removed]",
            "text/plain": [
              "<Figure size 432x288 with 1 Axes>"
            ]
          },
          "metadata": {
            "tags": []
          }
        }
      ]
    },
    {
      "metadata": {
        "id": "43Fg0ETDpreH",
        "colab_type": "text"
      },
      "cell_type": "markdown",
      "source": [
        "From the above graph we can see that by the sixth pass over the data set, the neuarl network no longer has any error in predicting if a set should be classified as Dark or Bright. The 16 datapoints represent the entire set of possible outcomes, so any consideration of overfitting the data is not relevant. "
      ]
    },
    {
      "metadata": {
        "id": "J9bq1W39DbWj",
        "colab_type": "text"
      },
      "cell_type": "markdown",
      "source": [
        "Problem 2: Implement a multi-layer feedforward back-propagation algorithm (we can just call it ANN) that can “Teach a Neural Network for Classification”. <br>Requirements:<br>\n",
        "1) You must have three layers (input, hidden, and output) in your architecture.<br>\n",
        "2) Use Sigmoid function as your transfer function.<br>\n",
        "Implement the ANN to recognize 4 blocks image (such as one image shown below) to make a decision if an image is BRIGHT or DARK. Remember that we have 16 samples for the input. You must have at least three layers in your ANN: input layer, hidden layer, and output layer.\n",
        "\n",
        "Problem 2 will use the same dataset configuration as problem 1."
      ]
    },
    {
      "metadata": {
        "id": "imFQHLSqZ5OF",
        "colab_type": "code",
        "colab": {}
      },
      "cell_type": "code",
      "source": [
        "import math\n",
        "from random import seed\n",
        "from random import random\n",
        "\n",
        "seed(42)\n",
        "  \n",
        "def generate_network(feat, hidden, outs):\n",
        "    neural_net = []\n",
        "    h_layer = generate_weights(feat, hidden)\n",
        "    o_layer = generate_weights(hidden, outs)\n",
        "    neural_net.append(h_layer)\n",
        "    neural_net.append(o_layer)\n",
        "    return neural_net\n",
        "    \n",
        "  #generates all weights needed for each feature of a dataset and a bias weight at weights[-1]\n",
        "def generate_weights(r1, r2):\n",
        "    w = [ {'weights' : [random() - 0.5 for i in range(r1 + 1)]} for i in range(r2)]\n",
        "    return w\n",
        "  \n",
        "  #Calcualte the weighted sums that will be used for propagating through the network\n",
        "def weighted_sums(weights, input_vals):\n",
        "    sums = weights[-1] #initial sum value set to the bias value\n",
        "    for i in range(len(weights) - 1):\n",
        "      sums += weights[i] * input_vals[i]\n",
        "    return sums\n",
        "  \n",
        "  #defining the sigmoid function \n",
        "def sigmoid(sum_vals):\n",
        "    s = 1.0/(1.0 + math.exp(-sum_vals))\n",
        "    return s\n",
        "    \n",
        "  #defining sigmoid prime function\n",
        "def sigmoid_prime(s):\n",
        "    s_prime = s * (1.0 - s)\n",
        "    return s_prime\n",
        "  \n",
        "  #Forward propagation through the neural network\n",
        "def f_prop(network, row):\n",
        "    vals = row\n",
        "    for layers in network:\n",
        "      new_vals = []\n",
        "      for node in layers:\n",
        "        the_sums = weighted_sums(node['weights'], vals)\n",
        "        node['output'] = sigmoid(the_sums)\n",
        "        new_vals.append(node['output'])\n",
        "      vals = new_vals\n",
        "    return vals\n",
        "  \n",
        "  #Backward propagation through the neural network\n",
        "def b_prop(network, expected_vals):\n",
        "    for i in reversed(range(len(network))):\n",
        "      l = network[i]\n",
        "      errors = []\n",
        "      if i != len(network) - 1:\n",
        "        for j in range(len(l)):\n",
        "          error = 0.0\n",
        "          for node in network[i + 1]:\n",
        "            error += (node['weights'][j] * node['delta'])\n",
        "          errors.append(error)\n",
        "      else: \n",
        "          for j in range(len(l)):\n",
        "            node = l[j]\n",
        "            errors.append(expected_vals[j] - node['output'])\n",
        "      for j in range(len(l)):\n",
        "          node = l[j]\n",
        "          node['delta'] = errors[j] * sigmoid_prime(node['output'])\n",
        "  #Calculate the weights and assign them for the next pass through the neural network        \n",
        "def new_weight(network, row, rate):\n",
        "    for i in range(len(network)):\n",
        "      inputs = row[:-1]\n",
        "      if i != 0:\n",
        "        inputs = [node['output'] for node in network[i - 1]]\n",
        "      for node in network[i]:\n",
        "        for j in range(len(inputs)):\n",
        "          node['weights'][j] += rate * node['delta'] * inputs[j]\n",
        "        node['weights'][-1] += rate * node['delta']\n",
        "   #train the network to assign the correct weights.        \n",
        "def training(network, dataset, rate, epochs, outputs, print_op = 0):\n",
        "    for epoch in range(epochs):\n",
        "      total_error = 0\n",
        "      for row in dataset:\n",
        "        outs = f_prop(network, row)\n",
        "        target = [0 for i in range(outputs)]\n",
        "        target[row[-1]] = 1\n",
        "        total_error += sum([(target[i] - outs[i])**2 for i in range(len(target))])\n",
        "        b_prop(network, target)\n",
        "        new_weight(network, row, rate)\n",
        "      if print_op != 0:\n",
        "        print('>epoch=%d, rate=%.3f, error=%.3f' % (epoch, rate, total_error))\n",
        "  \n",
        "def prediction(network,row):\n",
        "    outputs = f_prop(network, row)\n",
        "    return outputs.index(max(outputs))\n",
        "        "
      ],
      "execution_count": 0,
      "outputs": []
    },
    {
      "metadata": {
        "id": "6d52RrBvTIQt",
        "colab_type": "code",
        "colab": {
          "base_uri": "https://localhost:8080/",
          "height": 442
        },
        "outputId": "4c826010-ff38-4a9f-9f0c-88794252c48f"
      },
      "cell_type": "code",
      "source": [
        "dataset = [[0,0,0,0,0],\n",
        "\t        [1,0,0,0,0],\n",
        "          [0,1,0,0,0],\n",
        "          [0,0,0,1,0],\n",
        "          [1,1,0,0,1],\n",
        "          [0,1,1,0,1],\n",
        "          [0,0,1,1,1],\n",
        "          [1,0,1,0,1],\n",
        "          [1,0,0,1,1],\n",
        "          [0,1,0,1,1],\n",
        "          [1,1,1,0,1],\n",
        "          [1,0,1,1,1],\n",
        "          [1,1,0,1,1],\n",
        "          [0,1,1,1,1],\n",
        "          [1,1,1,1,1]]\n",
        "\n",
        "\n",
        "n_inputs = len(dataset[0]) - 1\n",
        "n_outputs = len(set([row[-1] for row in dataset]))\n",
        "network = generate_network(n_inputs, 2, n_outputs)\n",
        "training(network, dataset, 0.1, 25, n_outputs, 1)\n"
      ],
      "execution_count": 95,
      "outputs": [
        {
          "output_type": "stream",
          "text": [
            ">epoch=0, rate=0.100, error=6.785\n",
            ">epoch=1, rate=0.100, error=6.590\n",
            ">epoch=2, rate=0.100, error=6.441\n",
            ">epoch=3, rate=0.100, error=6.327\n",
            ">epoch=4, rate=0.100, error=6.240\n",
            ">epoch=5, rate=0.100, error=6.172\n",
            ">epoch=6, rate=0.100, error=6.120\n",
            ">epoch=7, rate=0.100, error=6.080\n",
            ">epoch=8, rate=0.100, error=6.047\n",
            ">epoch=9, rate=0.100, error=6.022\n",
            ">epoch=10, rate=0.100, error=6.001\n",
            ">epoch=11, rate=0.100, error=5.984\n",
            ">epoch=12, rate=0.100, error=5.970\n",
            ">epoch=13, rate=0.100, error=5.959\n",
            ">epoch=14, rate=0.100, error=5.949\n",
            ">epoch=15, rate=0.100, error=5.941\n",
            ">epoch=16, rate=0.100, error=5.934\n",
            ">epoch=17, rate=0.100, error=5.928\n",
            ">epoch=18, rate=0.100, error=5.923\n",
            ">epoch=19, rate=0.100, error=5.918\n",
            ">epoch=20, rate=0.100, error=5.914\n",
            ">epoch=21, rate=0.100, error=5.910\n",
            ">epoch=22, rate=0.100, error=5.907\n",
            ">epoch=23, rate=0.100, error=5.903\n",
            ">epoch=24, rate=0.100, error=5.900\n"
          ],
          "name": "stdout"
        }
      ]
    },
    {
      "metadata": {
        "id": "my1wanLsgJFb",
        "colab_type": "text"
      },
      "cell_type": "markdown",
      "source": [
        "We can clearly see that the error is decreasing over each epoch. Twentyfive passes is not quite enough to train the network to acurately make predictions yet. The next section of code increases the epoch value to 200 and forgoes printing each epoch. We then make a prediction based on all rows of the data set. "
      ]
    },
    {
      "metadata": {
        "id": "gcJA7WFwEG5O",
        "colab_type": "code",
        "colab": {
          "base_uri": "https://localhost:8080/",
          "height": 272
        },
        "outputId": "79e7cbab-2428-4944-9d73-e4f231825e9f"
      },
      "cell_type": "code",
      "source": [
        "training(network, dataset, 0.1, 200, n_outputs, 0)\n",
        "\n",
        "for row in dataset:\n",
        "\tresults = prediction(network, row)\n",
        "\tprint('Expected=%d, Got=%d' % (row[-1], results))"
      ],
      "execution_count": 84,
      "outputs": [
        {
          "output_type": "stream",
          "text": [
            "Expected=0, Got=0\n",
            "Expected=0, Got=0\n",
            "Expected=0, Got=0\n",
            "Expected=0, Got=0\n",
            "Expected=1, Got=1\n",
            "Expected=1, Got=1\n",
            "Expected=1, Got=1\n",
            "Expected=1, Got=1\n",
            "Expected=1, Got=1\n",
            "Expected=1, Got=1\n",
            "Expected=1, Got=1\n",
            "Expected=1, Got=1\n",
            "Expected=1, Got=1\n",
            "Expected=1, Got=1\n",
            "Expected=1, Got=1\n"
          ],
          "name": "stdout"
        }
      ]
    },
    {
      "metadata": {
        "id": "ODdLe3wDizI5",
        "colab_type": "text"
      },
      "cell_type": "markdown",
      "source": [
        "At this point, ANN can succesfully predict any of the 16 possible pixel combinations and classify them as Dark (0) or Bright(1).<br> The only that ANN doesn't do yet is accept the data as an actual block of pixels. The next part will add this functionality. "
      ]
    },
    {
      "metadata": {
        "id": "WGB2387JjRgM",
        "colab_type": "code",
        "colab": {}
      },
      "cell_type": "code",
      "source": [
        ""
      ],
      "execution_count": 0,
      "outputs": []
    }
  ]
}